{
 "cells": [
  {
   "cell_type": "markdown",
   "id": "07becc8e",
   "metadata": {},
   "source": [
    "#### Mempersiapkan Library"
   ]
  },
  {
   "cell_type": "code",
   "execution_count": 1,
   "id": "67514fe7",
   "metadata": {},
   "outputs": [],
   "source": [
    "import pandas as pd\n",
    "import numpy as np\n",
    "import re\n",
    "import csv\n",
    "from string import punctuation\n",
    "import seaborn as sns\n",
    "from sklearn.model_selection import train_test_split\n",
    "from tensorflow.keras.preprocessing.text import Tokenizer\n",
    "from tensorflow.keras.preprocessing.sequence import pad_sequences\n",
    "from sklearn.preprocessing import OneHotEncoder\n",
    "from tensorflow.keras.models import Sequential\n",
    "from tensorflow.keras import layers\n",
    "from sklearn.metrics import accuracy_score\n",
    "import keras\n",
    "from tensorflow.keras.models import Sequential\n",
    "from tensorflow.keras.optimizers import SGD\n",
    "import pickle"
   ]
  },
  {
   "cell_type": "code",
   "execution_count": 2,
   "id": "f695b419",
   "metadata": {},
   "outputs": [
    {
     "name": "stdout",
     "output_type": "stream",
     "text": [
      " Volume in drive C is Windows\n",
      " Volume Serial Number is 01AA-1B3B\n",
      "\n",
      " Directory of c:\\Users\\Cupiz\\Documents\\GitHub\\Sentiment-Analyst\\Train\n",
      "\n",
      "06/09/2023  02:50    <DIR>          .\n",
      "06/09/2023  02:50    <DIR>          ..\n",
      "06/09/2023  02:13            27.908 model_NN.ipynb\n",
      "06/09/2023  02:13            30.492 modelCNN.ipynb\n",
      "06/09/2023  02:13            30.417 modelLSTM.ipynb\n",
      "11/08/2023  19:26            13.794 modelRegressi.ipynb\n",
      "               4 File(s)        102.611 bytes\n",
      "               2 Dir(s)  346.409.230.336 bytes free\n"
     ]
    }
   ],
   "source": [
    "ls"
   ]
  },
  {
   "cell_type": "markdown",
   "id": "e4b880a8",
   "metadata": {},
   "source": [
    "#### Mempersiapkan Dataset"
   ]
  },
  {
   "cell_type": "code",
   "execution_count": 3,
   "id": "22234de8",
   "metadata": {},
   "outputs": [],
   "source": [
    "tsv_file_path = \"../train_preprocess.tsv.txt\"\n",
    "\n",
    "data_text = []\n",
    "label = []\n",
    "\n",
    "with open(tsv_file_path, encoding='utf-8') as tsvfile:\n",
    "    tsv_reader = csv.reader(tsvfile, delimiter='\\t')\n",
    "    for row in tsv_reader:\n",
    "        data_text.append(row[0])\n",
    "        label.append(row[1])\n",
    "\n",
    "df = pd.DataFrame({'data_text': data_text, 'label': label})"
   ]
  },
  {
   "cell_type": "code",
   "execution_count": 4,
   "id": "5abe46f2",
   "metadata": {},
   "outputs": [],
   "source": [
    "train_data, test_data = train_test_split(df, test_size=0.2, random_state=0)\n",
    "train_data, val_data = train_test_split(train_data, test_size=0.2, random_state=0)"
   ]
  },
  {
   "cell_type": "code",
   "execution_count": 5,
   "id": "1e0f4742",
   "metadata": {},
   "outputs": [
    {
     "name": "stdout",
     "output_type": "stream",
     "text": [
      "(7040, 2)\n",
      "(2200, 2)\n",
      "(1760, 2)\n"
     ]
    }
   ],
   "source": [
    "print(train_data.shape)\n",
    "print(test_data.shape)\n",
    "print(val_data.shape)"
   ]
  },
  {
   "cell_type": "code",
   "execution_count": 6,
   "id": "6c908c75",
   "metadata": {},
   "outputs": [
    {
     "name": "stdout",
     "output_type": "stream",
     "text": [
      "Komposisi Label train_data:\n",
      "positive    4134\n",
      "negative    2185\n",
      "neutral      721\n",
      "Name: label, dtype: int64\n",
      "Komposisi Label test_data:\n",
      "positive    1272\n",
      "negative     688\n",
      "neutral      240\n",
      "Name: label, dtype: int64\n",
      "Komposisi Label val_data:\n",
      "positive    1010\n",
      "negative     563\n",
      "neutral      187\n",
      "Name: label, dtype: int64\n"
     ]
    }
   ],
   "source": [
    "print('Komposisi Label train_data:')\n",
    "print(train_data['label'].value_counts())\n",
    "\n",
    "print('Komposisi Label test_data:')\n",
    "print(test_data['label'].value_counts())\n",
    "\n",
    "print('Komposisi Label val_data:')\n",
    "print(val_data['label'].value_counts())"
   ]
  },
  {
   "cell_type": "markdown",
   "id": "5ea3cc68",
   "metadata": {},
   "source": [
    "#### Normalisasi Text"
   ]
  },
  {
   "cell_type": "code",
   "execution_count": 7,
   "id": "c074f43e",
   "metadata": {},
   "outputs": [],
   "source": [
    "def lowercasing(paragraph):\n",
    "    return paragraph.lower()"
   ]
  },
  {
   "cell_type": "code",
   "execution_count": 8,
   "id": "e035fed9",
   "metadata": {},
   "outputs": [],
   "source": [
    "def menghilangkan_tandabaca(paragraph):\n",
    "    new_paragraph = re.sub(fr'[{punctuation}]', r'', paragraph)\n",
    "    return new_paragraph"
   ]
  },
  {
   "cell_type": "code",
   "execution_count": 9,
   "id": "4c2c8478",
   "metadata": {},
   "outputs": [],
   "source": [
    "def text_normalization(paragraph):\n",
    "    paragraph = lowercasing(paragraph)\n",
    "    paragraph = menghilangkan_tandabaca(paragraph)\n",
    "    paragraph = re.sub(r\"[ ]+\",r' ',paragraph)\n",
    "    return paragraph"
   ]
  },
  {
   "cell_type": "code",
   "execution_count": 10,
   "id": "a1d820a2",
   "metadata": {},
   "outputs": [],
   "source": [
    "train_data['data_text'] = train_data['data_text'].apply(lambda x: text_normalization(x))\n",
    "test_data['data_text'] = test_data['data_text'].apply(lambda x: text_normalization(x))\n",
    "val_data['data_text'] = val_data['data_text'].apply(lambda x: text_normalization(x))"
   ]
  },
  {
   "cell_type": "markdown",
   "id": "b72eb2c8",
   "metadata": {},
   "source": [
    "#### Training Model"
   ]
  },
  {
   "cell_type": "code",
   "execution_count": 11,
   "id": "4aaa7d24",
   "metadata": {},
   "outputs": [],
   "source": [
    "tokenizer = Tokenizer(oov_token='<UNK>')"
   ]
  },
  {
   "cell_type": "code",
   "execution_count": 12,
   "id": "22cc57aa",
   "metadata": {},
   "outputs": [],
   "source": [
    "tokenizer.fit_on_texts(train_data['data_text'])"
   ]
  },
  {
   "cell_type": "code",
   "execution_count": 13,
   "id": "1eeac143",
   "metadata": {},
   "outputs": [],
   "source": [
    "train_data_tf = tokenizer.texts_to_sequences(train_data['data_text'])\n",
    "test_data_tf = tokenizer.texts_to_sequences(test_data['data_text'])\n",
    "val_data_tf = tokenizer.texts_to_sequences(val_data['data_text'])"
   ]
  },
  {
   "cell_type": "code",
   "execution_count": 14,
   "id": "11af2ad1",
   "metadata": {},
   "outputs": [
    {
     "data": {
      "text/plain": [
       "4057     indihome gangguan terus bayar nya saja mahal t...\n",
       "7811     tempat pemandangan nya luar biasa dan pelayana...\n",
       "5046     bagaimana kalau netizen pada patungan menyewa ...\n",
       "7404                                           tidak sehat\n",
       "8055     ulah sendiri kok gubernur yang disalahkan dasa...\n",
       "                               ...                        \n",
       "10959                  saya cemburu tapi tidak bisa apaapa\n",
       "3997     bubarkan saja dpr rakyat tidak butuh diwakili ...\n",
       "4118     steak di sini selalu membuat ketagihan menu ke...\n",
       "5646                                      adit kayak tarik\n",
       "10675    restoran sumoamg padang dago adalah palung pop...\n",
       "Name: data_text, Length: 7040, dtype: object"
      ]
     },
     "execution_count": 14,
     "metadata": {},
     "output_type": "execute_result"
    }
   ],
   "source": [
    "train_data['data_text']"
   ]
  },
  {
   "cell_type": "code",
   "execution_count": 15,
   "id": "5de1137e",
   "metadata": {},
   "outputs": [
    {
     "data": {
      "text/plain": [
       "<seaborn.axisgrid.FacetGrid at 0x23066ee28f0>"
      ]
     },
     "execution_count": 15,
     "metadata": {},
     "output_type": "execute_result"
    },
    {
     "data": {
      "image/png": "[encoded data removed]",
      "text/plain": [
       "<Figure size 500x500 with 1 Axes>"
      ]
     },
     "metadata": {},
     "output_type": "display_data"
    }
   ],
   "source": [
    "sns.displot([len(x) for x in train_data_tf])"
   ]
  },
  {
   "cell_type": "code",
   "execution_count": 16,
   "id": "6cc52fcf",
   "metadata": {},
   "outputs": [],
   "source": [
    "max_len = int(np.quantile([len(x) for x in train_data_tf], 0.9))"
   ]
  },
  {
   "cell_type": "code",
   "execution_count": 17,
   "id": "f1057f39",
   "metadata": {},
   "outputs": [
    {
     "data": {
      "text/plain": [
       "59"
      ]
     },
     "execution_count": 17,
     "metadata": {},
     "output_type": "execute_result"
    }
   ],
   "source": [
    "max_len"
   ]
  },
  {
   "cell_type": "code",
   "execution_count": 18,
   "id": "f50fe45f",
   "metadata": {},
   "outputs": [],
   "source": [
    "train_padded = pad_sequences(sequences = train_data_tf, padding='post', maxlen=max_len)\n",
    "test_padded = pad_sequences(sequences = test_data_tf, padding='post', maxlen=max_len)\n",
    "val_padded = pad_sequences(sequences = val_data_tf, padding='post', maxlen=max_len)"
   ]
  },
  {
   "cell_type": "code",
   "execution_count": 19,
   "id": "efbce9cc",
   "metadata": {},
   "outputs": [
    {
     "name": "stdout",
     "output_type": "stream",
     "text": [
      "(7040, 59)\n",
      "(2200, 59)\n",
      "(1760, 59)\n"
     ]
    }
   ],
   "source": [
    "print(train_padded.shape)\n",
    "print(test_padded.shape)\n",
    "print(val_padded.shape)"
   ]
  },
  {
   "cell_type": "code",
   "execution_count": 20,
   "id": "3b63aa5e",
   "metadata": {},
   "outputs": [],
   "source": [
    "onehot = OneHotEncoder()"
   ]
  },
  {
   "cell_type": "code",
   "execution_count": 21,
   "id": "d977fd99",
   "metadata": {},
   "outputs": [
    {
     "data": {
      "text/plain": [
       "<7040x3 sparse matrix of type '<class 'numpy.float64'>'\n",
       "\twith 7040 stored elements in Compressed Sparse Row format>"
      ]
     },
     "execution_count": 21,
     "metadata": {},
     "output_type": "execute_result"
    }
   ],
   "source": [
    "onehot.fit_transform(train_data[['label']])"
   ]
  },
  {
   "cell_type": "code",
   "execution_count": 22,
   "id": "af4fdef8",
   "metadata": {},
   "outputs": [],
   "source": [
    "train_labels = onehot.fit_transform(train_data[['label']]).toarray()"
   ]
  },
  {
   "cell_type": "markdown",
   "id": "09e3e960",
   "metadata": {},
   "source": [
    "#### Model Testing and Evaluation"
   ]
  },
  {
   "cell_type": "code",
   "execution_count": 23,
   "id": "af151c57",
   "metadata": {},
   "outputs": [],
   "source": [
    "model = Sequential()"
   ]
  },
  {
   "cell_type": "code",
   "execution_count": 24,
   "id": "275c6d91",
   "metadata": {},
   "outputs": [],
   "source": [
    "max_features = len(tokenizer.index_word)\n",
    "batch_size=16\n",
    "output_dim = 64\n",
    "input_len = max_len"
   ]
  },
  {
   "cell_type": "code",
   "execution_count": 25,
   "id": "09e3bc64",
   "metadata": {},
   "outputs": [],
   "source": [
    "model = keras.Sequential()\n",
    "model.add(layers.Embedding(input_dim=len(tokenizer.index_word)+1,\n",
    "                           output_dim=output_dim,\n",
    "                           input_length=input_len))\n",
    "model.add(layers.LSTM(128, dropout=0.2))\n",
    "model.add(layers.Dense(64, activation='relu'))\n",
    "model.add(layers.Dense(32, activation='relu'))\n",
    "model.add(layers.Dense(3, activation='softmax'))"
   ]
  },
  {
   "cell_type": "code",
   "execution_count": 26,
   "id": "9a09ff55",
   "metadata": {},
   "outputs": [],
   "source": [
    "model.compile(loss='categorical_crossentropy', optimizer='adam',metrics=['accuracy'])"
   ]
  },
  {
   "cell_type": "code",
   "execution_count": 27,
   "id": "3c9005c1",
   "metadata": {
    "scrolled": false
   },
   "outputs": [
    {
     "name": "stdout",
     "output_type": "stream",
     "text": [
      "Epoch 1/20\n",
      "440/440 [==============================] - 23s 47ms/step - loss: 0.8808 - accuracy: 0.6178\n",
      "Epoch 2/20\n",
      "440/440 [==============================] - 22s 50ms/step - loss: 0.7727 - accuracy: 0.6888\n",
      "Epoch 3/20\n",
      "440/440 [==============================] - 22s 49ms/step - loss: 0.6703 - accuracy: 0.7345\n",
      "Epoch 4/20\n",
      "440/440 [==============================] - 22s 50ms/step - loss: 0.5526 - accuracy: 0.7886\n",
      "Epoch 5/20\n",
      "440/440 [==============================] - 22s 51ms/step - loss: 0.4870 - accuracy: 0.8119\n",
      "Epoch 6/20\n",
      "440/440 [==============================] - 21s 49ms/step - loss: 0.4252 - accuracy: 0.8330\n",
      "Epoch 7/20\n",
      "440/440 [==============================] - 23s 52ms/step - loss: 0.3739 - accuracy: 0.8545\n",
      "Epoch 8/20\n",
      "440/440 [==============================] - 21s 49ms/step - loss: 0.2906 - accuracy: 0.8756\n",
      "Epoch 9/20\n",
      "440/440 [==============================] - 22s 50ms/step - loss: 0.1726 - accuracy: 0.9406\n",
      "Epoch 10/20\n",
      "440/440 [==============================] - 25s 56ms/step - loss: 0.1047 - accuracy: 0.9683\n",
      "Epoch 11/20\n",
      "440/440 [==============================] - 22s 49ms/step - loss: 0.0763 - accuracy: 0.9774\n",
      "Epoch 12/20\n",
      "440/440 [==============================] - 21s 47ms/step - loss: 0.0551 - accuracy: 0.9831\n",
      "Epoch 13/20\n",
      "440/440 [==============================] - 21s 48ms/step - loss: 0.0342 - accuracy: 0.9899\n",
      "Epoch 14/20\n",
      "440/440 [==============================] - 23s 52ms/step - loss: 0.0300 - accuracy: 0.9912\n",
      "Epoch 15/20\n",
      "440/440 [==============================] - 20s 45ms/step - loss: 0.0237 - accuracy: 0.9926\n",
      "Epoch 16/20\n",
      "440/440 [==============================] - 20s 46ms/step - loss: 0.0224 - accuracy: 0.9929\n",
      "Epoch 17/20\n",
      "440/440 [==============================] - 20s 46ms/step - loss: 0.0150 - accuracy: 0.9953\n",
      "Epoch 18/20\n",
      "440/440 [==============================] - 20s 46ms/step - loss: 0.0111 - accuracy: 0.9962\n",
      "Epoch 19/20\n",
      "440/440 [==============================] - 20s 46ms/step - loss: 0.0071 - accuracy: 0.9982\n",
      "Epoch 20/20\n",
      "440/440 [==============================] - 22s 50ms/step - loss: 0.0051 - accuracy: 0.9983\n"
     ]
    }
   ],
   "source": [
    "maximum_index_training = int(np.floor(train_padded.shape[0]/batch_size)*batch_size)\n",
    "train = model.fit(x=train_padded[:maximum_index_training], \n",
    "          y=train_labels[:maximum_index_training],\n",
    "          batch_size=batch_size, \n",
    "          epochs=20, \n",
    "          shuffle=False)"
   ]
  },
  {
   "cell_type": "code",
   "execution_count": 46,
   "id": "5ac64f64",
   "metadata": {},
   "outputs": [
    {
     "data": {
      "image/png": "[encoded data removed]",
      "text/plain": [
       "<Figure size 2400x700 with 2 Axes>"
      ]
     },
     "metadata": {},
     "output_type": "display_data"
    }
   ],
   "source": [
    "import matplotlib.pyplot as plt\n",
    "plt.style.use('ggplot')\n",
    "\n",
    "def plot_train(train):\n",
    "    acc = train.history['accuracy']\n",
    "    loss = train.history['loss']\n",
    "    x = range(1, len(acc) + 1)\n",
    "\n",
    "    plt.figure(figsize=(24, 7))\n",
    "    plt.subplot(1, 2, 1)\n",
    "    plt.plot(x, acc, 'b', label='Training acc')\n",
    "    plt.title('Training accuracy')\n",
    "    plt.legend()\n",
    "    plt.subplot(1, 2, 2)\n",
    "    plt.plot(x, loss, 'b', label='Training loss')\n",
    "    plt.title('Training loss')\n",
    "    plt.legend()\n",
    "\n",
    "%matplotlib inline\n",
    "plot_train(train)"
   ]
  },
  {
   "cell_type": "code",
   "execution_count": 33,
   "id": "a21cb202",
   "metadata": {},
   "outputs": [
    {
     "name": "stdout",
     "output_type": "stream",
     "text": [
      "1760/1760 [==============================] - 7s 4ms/step\n"
     ]
    }
   ],
   "source": [
    "y_pred = model.predict(val_padded,batch_size=1)"
   ]
  },
  {
   "cell_type": "code",
   "execution_count": 34,
   "id": "7564b611",
   "metadata": {},
   "outputs": [],
   "source": [
    "y_pred = onehot.inverse_transform(y_pred).reshape(-1)"
   ]
  },
  {
   "cell_type": "code",
   "execution_count": 48,
   "id": "143508f4",
   "metadata": {},
   "outputs": [
    {
     "name": "stdout",
     "output_type": "stream",
     "text": [
      "0.8272727272727273\n",
      "83%\n"
     ]
    }
   ],
   "source": [
    "pred = accuracy_score(y_pred=y_pred, y_true=val_data['label'])\n",
    "print(pred)\n",
    "print('{:.0%}'.format(pred))"
   ]
  },
  {
   "cell_type": "code",
   "execution_count": 39,
   "id": "5a7667c0",
   "metadata": {},
   "outputs": [],
   "source": [
    "pickle.dump(model, open('../Model/model_LSTM.h5','wb'))"
   ]
  },
  {
   "cell_type": "code",
   "execution_count": null,
   "id": "ebdecae3",
   "metadata": {},
   "outputs": [],
   "source": []
  }
 ],
 "metadata": {
  "kernelspec": {
   "display_name": "Python 3 (ipykernel)",
   "language": "python",
   "name": "python3"
  },
  "language_info": {
   "codemirror_mode": {
    "name": "ipython",
    "version": 3
   },
   "file_extension": ".py",
   "mimetype": "text/x-python",
   "name": "python",
   "nbconvert_exporter": "python",
   "pygments_lexer": "ipython3",
   "version": "3.10.9"
  }
 },
 "nbformat": 4,
 "nbformat_minor": 5
}
