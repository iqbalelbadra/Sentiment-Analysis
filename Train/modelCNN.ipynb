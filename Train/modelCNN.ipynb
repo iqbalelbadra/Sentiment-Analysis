{
 "cells": [
  {
   "cell_type": "markdown",
   "id": "383185ef",
   "metadata": {},
   "source": [
    "#### Mempersiapkan Library"
   ]
  },
  {
   "cell_type": "code",
   "execution_count": 32,
   "id": "457f2ff5",
   "metadata": {},
   "outputs": [],
   "source": [
    "import pandas as pd\n",
    "import numpy as np\n",
    "import re\n",
    "import csv\n",
    "from string import punctuation\n",
    "import seaborn as sns\n",
    "from sklearn.model_selection import train_test_split\n",
    "from tensorflow.keras.preprocessing.text import Tokenizer\n",
    "from tensorflow.keras.preprocessing.sequence import pad_sequences\n",
    "from sklearn.preprocessing import OneHotEncoder\n",
    "from tensorflow.keras.models import Sequential\n",
    "from tensorflow.keras import layers\n",
    "from sklearn.metrics import accuracy_score, classification_report\n",
    "import pickle"
   ]
  },
  {
   "cell_type": "markdown",
   "id": "6af62f17",
   "metadata": {},
   "source": [
    "#### Mempersiapkan Dataset"
   ]
  },
  {
   "cell_type": "code",
   "execution_count": 33,
   "id": "02eb3d35",
   "metadata": {},
   "outputs": [],
   "source": [
    "tsv_file_path = \"../train_preprocess.tsv.txt\"\n",
    "\n",
    "data_text = []\n",
    "label = []\n",
    "\n",
    "with open(tsv_file_path, encoding='utf-8') as tsvfile:\n",
    "    tsv_reader = csv.reader(tsvfile, delimiter='\\t')\n",
    "    for row in tsv_reader:\n",
    "        data_text.append(row[0])\n",
    "        label.append(row[1])\n",
    "\n",
    "df = pd.DataFrame({'data_text': data_text, 'label': label})"
   ]
  },
  {
   "cell_type": "code",
   "execution_count": 34,
   "id": "0fa7a61c",
   "metadata": {},
   "outputs": [],
   "source": [
    "train_data, test_data = train_test_split(df, test_size=0.2, random_state=0)\n",
    "train_data, val_data = train_test_split(train_data, test_size=0.2, random_state=0)"
   ]
  },
  {
   "cell_type": "code",
   "execution_count": 35,
   "id": "83e06130",
   "metadata": {},
   "outputs": [
    {
     "name": "stdout",
     "output_type": "stream",
     "text": [
      "(7040, 2)\n",
      "(2200, 2)\n",
      "(1760, 2)\n"
     ]
    }
   ],
   "source": [
    "print(train_data.shape)\n",
    "print(test_data.shape)\n",
    "print(val_data.shape)"
   ]
  },
  {
   "cell_type": "code",
   "execution_count": 36,
   "id": "88b84c4f",
   "metadata": {},
   "outputs": [
    {
     "name": "stdout",
     "output_type": "stream",
     "text": [
      "Komposisi Label train_data:\n",
      "positive    4134\n",
      "negative    2185\n",
      "neutral      721\n",
      "Name: label, dtype: int64\n",
      "Komposisi Label test_data:\n",
      "positive    1272\n",
      "negative     688\n",
      "neutral      240\n",
      "Name: label, dtype: int64\n",
      "Komposisi Label val_data:\n",
      "positive    1010\n",
      "negative     563\n",
      "neutral      187\n",
      "Name: label, dtype: int64\n"
     ]
    }
   ],
   "source": [
    "print('Komposisi Label train_data:')\n",
    "print(train_data['label'].value_counts())\n",
    "\n",
    "print('Komposisi Label test_data:')\n",
    "print(test_data['label'].value_counts())\n",
    "\n",
    "print('Komposisi Label val_data:')\n",
    "print(val_data['label'].value_counts())"
   ]
  },
  {
   "cell_type": "markdown",
   "id": "cc051132",
   "metadata": {},
   "source": [
    "#### Normalisasi Text"
   ]
  },
  {
   "cell_type": "code",
   "execution_count": 37,
   "id": "0674c5a5",
   "metadata": {},
   "outputs": [],
   "source": [
    "def lowercasing(paragraph):\n",
    "    return paragraph.lower()"
   ]
  },
  {
   "cell_type": "code",
   "execution_count": 38,
   "id": "a694ce97",
   "metadata": {},
   "outputs": [],
   "source": [
    "def menghilangkan_tandabaca(paragraph):\n",
    "    new_paragraph = re.sub(fr'[{punctuation}]', r'', paragraph)\n",
    "    return new_paragraph"
   ]
  },
  {
   "cell_type": "code",
   "execution_count": 39,
   "id": "fdc0f50d",
   "metadata": {},
   "outputs": [],
   "source": [
    "def text_normalization(paragraph):\n",
    "    paragraph = lowercasing(paragraph)\n",
    "    paragraph = menghilangkan_tandabaca(paragraph)\n",
    "    paragraph = re.sub(r\"[ ]+\",r' ',paragraph)\n",
    "    return paragraph"
   ]
  },
  {
   "cell_type": "code",
   "execution_count": 40,
   "id": "f939d6b0",
   "metadata": {},
   "outputs": [],
   "source": [
    "train_data['data_text'] = train_data['data_text'].apply(lambda x: text_normalization(x))\n",
    "test_data['data_text'] = test_data['data_text'].apply(lambda x: text_normalization(x))\n",
    "val_data['data_text'] = val_data['data_text'].apply(lambda x: text_normalization(x))"
   ]
  },
  {
   "cell_type": "markdown",
   "id": "1c19a145",
   "metadata": {},
   "source": [
    "#### Training Model"
   ]
  },
  {
   "cell_type": "code",
   "execution_count": 41,
   "id": "d05a119c",
   "metadata": {},
   "outputs": [],
   "source": [
    "tokenizer = Tokenizer(oov_token='<UNK>')"
   ]
  },
  {
   "cell_type": "code",
   "execution_count": 42,
   "id": "3f4b6af8",
   "metadata": {},
   "outputs": [],
   "source": [
    "tokenizer.fit_on_texts(train_data['data_text'])"
   ]
  },
  {
   "cell_type": "code",
   "execution_count": 43,
   "id": "19d6b701",
   "metadata": {},
   "outputs": [],
   "source": [
    "train_data_tf = tokenizer.texts_to_sequences(train_data['data_text'])\n",
    "test_data_tf = tokenizer.texts_to_sequences(test_data['data_text'])\n",
    "val_data_tf = tokenizer.texts_to_sequences(val_data['data_text'])"
   ]
  },
  {
   "cell_type": "code",
   "execution_count": 44,
   "id": "625dcd3f",
   "metadata": {},
   "outputs": [
    {
     "data": {
      "text/plain": [
       "4057     indihome gangguan terus bayar nya saja mahal t...\n",
       "7811     tempat pemandangan nya luar biasa dan pelayana...\n",
       "5046     bagaimana kalau netizen pada patungan menyewa ...\n",
       "7404                                           tidak sehat\n",
       "8055     ulah sendiri kok gubernur yang disalahkan dasa...\n",
       "                               ...                        \n",
       "10959                  saya cemburu tapi tidak bisa apaapa\n",
       "3997     bubarkan saja dpr rakyat tidak butuh diwakili ...\n",
       "4118     steak di sini selalu membuat ketagihan menu ke...\n",
       "5646                                      adit kayak tarik\n",
       "10675    restoran sumoamg padang dago adalah palung pop...\n",
       "Name: data_text, Length: 7040, dtype: object"
      ]
     },
     "execution_count": 44,
     "metadata": {},
     "output_type": "execute_result"
    }
   ],
   "source": [
    "train_data['data_text']"
   ]
  },
  {
   "cell_type": "code",
   "execution_count": 45,
   "id": "be649624",
   "metadata": {},
   "outputs": [
    {
     "data": {
      "text/plain": [
       "<seaborn.axisgrid.FacetGrid at 0x1e3ecdb81f0>"
      ]
     },
     "execution_count": 45,
     "metadata": {},
     "output_type": "execute_result"
    },
    {
     "data": {
      "image/png": "[encoded data removed]",
      "text/plain": [
       "<Figure size 500x500 with 1 Axes>"
      ]
     },
     "metadata": {},
     "output_type": "display_data"
    }
   ],
   "source": [
    "sns.displot([len(x) for x in train_data_tf])"
   ]
  },
  {
   "cell_type": "code",
   "execution_count": 46,
   "id": "73024653",
   "metadata": {},
   "outputs": [],
   "source": [
    "max_len = int(np.quantile([len(x) for x in train_data_tf], 0.9))"
   ]
  },
  {
   "cell_type": "code",
   "execution_count": 47,
   "id": "0cfdec46",
   "metadata": {},
   "outputs": [
    {
     "data": {
      "text/plain": [
       "59"
      ]
     },
     "execution_count": 47,
     "metadata": {},
     "output_type": "execute_result"
    }
   ],
   "source": [
    "max_len"
   ]
  },
  {
   "cell_type": "code",
   "execution_count": 48,
   "id": "8ab31c30",
   "metadata": {},
   "outputs": [],
   "source": [
    "train_padded = pad_sequences(sequences = train_data_tf, padding='post', maxlen=max_len)\n",
    "test_padded = pad_sequences(sequences = test_data_tf, padding='post', maxlen=max_len)\n",
    "val_padded = pad_sequences(sequences = val_data_tf, padding='post', maxlen=max_len)"
   ]
  },
  {
   "cell_type": "code",
   "execution_count": 49,
   "id": "dec72e17",
   "metadata": {},
   "outputs": [
    {
     "name": "stdout",
     "output_type": "stream",
     "text": [
      "(7040, 59)\n",
      "(2200, 59)\n",
      "(1760, 59)\n"
     ]
    }
   ],
   "source": [
    "print(train_padded.shape)\n",
    "print(test_padded.shape)\n",
    "print(val_padded.shape)"
   ]
  },
  {
   "cell_type": "code",
   "execution_count": 50,
   "id": "113b7e12",
   "metadata": {},
   "outputs": [],
   "source": [
    "onehot = OneHotEncoder()"
   ]
  },
  {
   "cell_type": "code",
   "execution_count": 51,
   "id": "0aced00d",
   "metadata": {},
   "outputs": [
    {
     "data": {
      "text/plain": [
       "<7040x3 sparse matrix of type '<class 'numpy.float64'>'\n",
       "\twith 7040 stored elements in Compressed Sparse Row format>"
      ]
     },
     "execution_count": 51,
     "metadata": {},
     "output_type": "execute_result"
    }
   ],
   "source": [
    "onehot.fit_transform(train_data[['label']])"
   ]
  },
  {
   "cell_type": "code",
   "execution_count": 52,
   "id": "351554fc",
   "metadata": {},
   "outputs": [],
   "source": [
    "train_labels = onehot.fit_transform(train_data[['label']]).toarray()"
   ]
  },
  {
   "cell_type": "markdown",
   "id": "ff0f00bd",
   "metadata": {},
   "source": [
    "#### Model Testing and Evaluation"
   ]
  },
  {
   "cell_type": "code",
   "execution_count": 53,
   "id": "c08c1010",
   "metadata": {},
   "outputs": [],
   "source": [
    "model = Sequential()"
   ]
  },
  {
   "cell_type": "code",
   "execution_count": 54,
   "id": "0c79c9b7",
   "metadata": {},
   "outputs": [],
   "source": [
    "max_features = len(tokenizer.index_word)\n",
    "batch_size=16\n",
    "output_dim = 64\n",
    "input_len = max_len"
   ]
  },
  {
   "cell_type": "code",
   "execution_count": 55,
   "id": "bc376eee",
   "metadata": {},
   "outputs": [],
   "source": [
    "model = Sequential()\n",
    "model.add(layers.Embedding(input_dim=len(tokenizer.index_word)+1,\n",
    "                           output_dim=output_dim, \n",
    "                           input_length=input_len))\n",
    "model.add(layers.Conv1D(128, 5, activation='relu'))\n",
    "model.add(layers.GlobalMaxPooling1D())\n",
    "model.add(layers.Dense(32, activation='relu'))\n",
    "model.add(layers.Dense(3, activation='softmax'))"
   ]
  },
  {
   "cell_type": "code",
   "execution_count": 56,
   "id": "7596c9b7",
   "metadata": {},
   "outputs": [],
   "source": [
    "model.compile(loss='categorical_crossentropy', optimizer='adam',metrics=['accuracy'])"
   ]
  },
  {
   "cell_type": "code",
   "execution_count": 57,
   "id": "13b08345",
   "metadata": {
    "scrolled": false
   },
   "outputs": [
    {
     "name": "stdout",
     "output_type": "stream",
     "text": [
      "Epoch 1/20\n",
      "440/440 [==============================] - 12s 25ms/step - loss: 0.5628 - accuracy: 0.7587\n",
      "Epoch 2/20\n",
      "440/440 [==============================] - 11s 25ms/step - loss: 0.2267 - accuracy: 0.9170\n",
      "Epoch 3/20\n",
      "440/440 [==============================] - 11s 25ms/step - loss: 0.0757 - accuracy: 0.9751\n",
      "Epoch 4/20\n",
      "440/440 [==============================] - 19s 44ms/step - loss: 0.0190 - accuracy: 0.9959\n",
      "Epoch 5/20\n",
      "440/440 [==============================] - 18s 40ms/step - loss: 0.0052 - accuracy: 0.9994\n",
      "Epoch 6/20\n",
      "440/440 [==============================] - 17s 38ms/step - loss: 0.0018 - accuracy: 0.9999\n",
      "Epoch 7/20\n",
      "440/440 [==============================] - 16s 37ms/step - loss: 8.2247e-04 - accuracy: 1.0000\n",
      "Epoch 8/20\n",
      "440/440 [==============================] - 16s 37ms/step - loss: 3.2608e-04 - accuracy: 1.0000\n",
      "Epoch 9/20\n",
      "440/440 [==============================] - 17s 38ms/step - loss: 1.7579e-04 - accuracy: 1.0000\n",
      "Epoch 10/20\n",
      "440/440 [==============================] - 15s 35ms/step - loss: 1.0470e-04 - accuracy: 1.0000\n",
      "Epoch 11/20\n",
      "440/440 [==============================] - 15s 34ms/step - loss: 6.6447e-05 - accuracy: 1.0000\n",
      "Epoch 12/20\n",
      "440/440 [==============================] - 15s 34ms/step - loss: 4.4407e-05 - accuracy: 1.0000\n",
      "Epoch 13/20\n",
      "440/440 [==============================] - 15s 35ms/step - loss: 3.0803e-05 - accuracy: 1.0000\n",
      "Epoch 14/20\n",
      "440/440 [==============================] - 16s 36ms/step - loss: 2.2023e-05 - accuracy: 1.0000\n",
      "Epoch 15/20\n",
      "440/440 [==============================] - 15s 35ms/step - loss: 1.6037e-05 - accuracy: 1.0000\n",
      "Epoch 16/20\n",
      "440/440 [==============================] - 16s 36ms/step - loss: 1.1889e-05 - accuracy: 1.0000\n",
      "Epoch 17/20\n",
      "440/440 [==============================] - 15s 35ms/step - loss: 8.8464e-06 - accuracy: 1.0000\n",
      "Epoch 18/20\n",
      "440/440 [==============================] - 16s 35ms/step - loss: 6.6691e-06 - accuracy: 1.0000\n",
      "Epoch 19/20\n",
      "440/440 [==============================] - 16s 37ms/step - loss: 5.0599e-06 - accuracy: 1.0000\n",
      "Epoch 20/20\n",
      "440/440 [==============================] - 18s 40ms/step - loss: 3.8843e-06 - accuracy: 1.0000\n"
     ]
    }
   ],
   "source": [
    "maximum_index_training = int(np.floor(train_padded.shape[0]/batch_size)*batch_size)\n",
    "train = model.fit(x=train_padded[:maximum_index_training], \n",
    "          y=train_labels[:maximum_index_training],\n",
    "          batch_size=batch_size, \n",
    "          epochs=20, \n",
    "          shuffle=False)"
   ]
  },
  {
   "cell_type": "code",
   "execution_count": 58,
   "id": "27e88ddd",
   "metadata": {},
   "outputs": [
    {
     "data": {
      "image/png": "[encoded data removed]",
      "text/plain": [
       "<Figure size 2400x700 with 2 Axes>"
      ]
     },
     "metadata": {},
     "output_type": "display_data"
    }
   ],
   "source": [
    "import matplotlib.pyplot as plt\n",
    "plt.style.use('ggplot')\n",
    "\n",
    "def plot_train(train):\n",
    "    acc = train.history['accuracy']\n",
    "    loss = train.history['loss']\n",
    "    x = range(1, len(acc) + 1)\n",
    "\n",
    "    plt.figure(figsize=(24, 7))\n",
    "    plt.subplot(1, 2, 1)\n",
    "    plt.plot(x, acc, 'b', label='Training acc')\n",
    "    plt.title('Training accuracy')\n",
    "    plt.legend()\n",
    "    plt.subplot(1, 2, 2)\n",
    "    plt.plot(x, loss, 'b', label='Training loss')\n",
    "    plt.title('Training loss')\n",
    "    plt.legend()\n",
    "\n",
    "%matplotlib inline\n",
    "plot_train(train)"
   ]
  },
  {
   "cell_type": "code",
   "execution_count": 59,
   "id": "cea38798",
   "metadata": {},
   "outputs": [
    {
     "name": "stdout",
     "output_type": "stream",
     "text": [
      "1760/1760 [==============================] - 5s 3ms/step\n"
     ]
    }
   ],
   "source": [
    "y_pred = model.predict(val_padded,batch_size=1)"
   ]
  },
  {
   "cell_type": "code",
   "execution_count": 60,
   "id": "699abca1",
   "metadata": {},
   "outputs": [],
   "source": [
    "y_pred = onehot.inverse_transform(y_pred).reshape(-1)"
   ]
  },
  {
   "cell_type": "code",
   "execution_count": 61,
   "id": "879d5009",
   "metadata": {},
   "outputs": [
    {
     "name": "stdout",
     "output_type": "stream",
     "text": [
      "87%\n"
     ]
    }
   ],
   "source": [
    "pred = accuracy_score(y_pred=y_pred, y_true=val_data['label'])\n",
    "print('{:.0%}'.format(pred))"
   ]
  },
  {
   "cell_type": "code",
   "execution_count": 62,
   "id": "d41f8ca7",
   "metadata": {},
   "outputs": [
    {
     "name": "stdout",
     "output_type": "stream",
     "text": [
      "              precision    recall  f1-score   support\n",
      "\n",
      "    negative       0.82      0.84      0.83       563\n",
      "     neutral       0.82      0.67      0.74       187\n",
      "    positive       0.90      0.92      0.91      1010\n",
      "\n",
      "    accuracy                           0.87      1760\n",
      "   macro avg       0.85      0.81      0.83      1760\n",
      "weighted avg       0.87      0.87      0.87      1760\n",
      "\n"
     ]
    }
   ],
   "source": [
    "print(classification_report(y_pred=y_pred, y_true=val_data['label']))"
   ]
  },
  {
   "cell_type": "code",
   "execution_count": 64,
   "id": "4289df09",
   "metadata": {},
   "outputs": [],
   "source": [
    "pickle.dump(model, open('../Model/model_CNN.h5','wb'))\n",
    "pickle.dump(input_len, open('../Pickle/input_len.pkl','wb'))\n",
    "pickle.dump(tokenizer, open('../Pickle/tokenizer.pkl','wb'))\n",
    "pickle.dump(onehot, open('../Pickle/onehot.pkl','wb'))"
   ]
  },
  {
   "cell_type": "code",
   "execution_count": 63,
   "id": "8baa66ac",
   "metadata": {},
   "outputs": [
    {
     "name": "stdout",
     "output_type": "stream",
     "text": [
      "Model: \"sequential_3\"\n",
      "_________________________________________________________________\n",
      " Layer (type)                Output Shape              Param #   \n",
      "=================================================================\n",
      " embedding_1 (Embedding)     (None, 59, 64)            906560    \n",
      "                                                                 \n",
      " conv1d_1 (Conv1D)           (None, 55, 128)           41088     \n",
      "                                                                 \n",
      " global_max_pooling1d_1 (Gl  (None, 128)               0         \n",
      " obalMaxPooling1D)                                               \n",
      "                                                                 \n",
      " dense_2 (Dense)             (None, 32)                4128      \n",
      "                                                                 \n",
      " dense_3 (Dense)             (None, 3)                 99        \n",
      "                                                                 \n",
      "=================================================================\n",
      "Total params: 951875 (3.63 MB)\n",
      "Trainable params: 951875 (3.63 MB)\n",
      "Non-trainable params: 0 (0.00 Byte)\n",
      "_________________________________________________________________\n"
     ]
    }
   ],
   "source": [
    "model.summary()"
   ]
  },
  {
   "cell_type": "code",
   "execution_count": null,
   "id": "233c2047",
   "metadata": {},
   "outputs": [],
   "source": []
  }
 ],
 "metadata": {
  "kernelspec": {
   "display_name": "Python 3 (ipykernel)",
   "language": "python",
   "name": "python3"
  },
  "language_info": {
   "codemirror_mode": {
    "name": "ipython",
    "version": 3
   },
   "file_extension": ".py",
   "mimetype": "text/x-python",
   "name": "python",
   "nbconvert_exporter": "python",
   "pygments_lexer": "ipython3",
   "version": "3.10.9"
  }
 },
 "nbformat": 4,
 "nbformat_minor": 5
}
