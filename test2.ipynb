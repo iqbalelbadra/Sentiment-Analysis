{
 "cells": [
  {
   "cell_type": "code",
   "execution_count": 1,
   "id": "67514fe7",
   "metadata": {},
   "outputs": [],
   "source": [
    "import pandas as pd\n",
    "import numpy as np\n",
    "import re\n",
    "import csv\n",
    "from string import punctuation\n",
    "from sklearn.model_selection import train_test_split\n",
    "from tensorflow.keras.preprocessing.text import Tokenizer\n",
    "from tensorflow.keras.preprocessing.sequence import pad_sequences\n",
    "from tensorflow.keras import layers\n",
    "from sklearn.preprocessing import OneHotEncoder\n",
    "import keras\n",
    "from tensorflow.keras.models import Sequential\n",
    "from tensorflow.keras.optimizers import SGD\n",
    "from sklearn.metrics import accuracy_score\n",
    "import pickle"
   ]
  },
  {
   "cell_type": "code",
   "execution_count": 2,
   "id": "22234de8",
   "metadata": {},
   "outputs": [],
   "source": [
    "tsv_file_path = \"train_preprocess.tsv.txt\"\n",
    "\n",
    "data_text = []\n",
    "label = []\n",
    "\n",
    "with open(tsv_file_path, encoding='utf-8') as tsvfile:\n",
    "    tsv_reader = csv.reader(tsvfile, delimiter='\\t')\n",
    "    for row in tsv_reader:\n",
    "        data_text.append(row[0])\n",
    "        label.append(row[1])\n",
    "\n",
    "df = pd.DataFrame({'data_text': data_text, 'label': label})"
   ]
  },
  {
   "cell_type": "code",
   "execution_count": 3,
   "id": "5abe46f2",
   "metadata": {},
   "outputs": [],
   "source": [
    "train_data, test_data = train_test_split(df, test_size=0.2, random_state=0)\n",
    "train_data, val_data = train_test_split(train_data, test_size=0.2, random_state=0)"
   ]
  },
  {
   "cell_type": "code",
   "execution_count": 4,
   "id": "1e0f4742",
   "metadata": {},
   "outputs": [
    {
     "name": "stdout",
     "output_type": "stream",
     "text": [
      "(7040, 2)\n",
      "(2200, 2)\n",
      "(1760, 2)\n"
     ]
    }
   ],
   "source": [
    "print(train_data.shape)\n",
    "print(test_data.shape)\n",
    "print(val_data.shape)"
   ]
  },
  {
   "cell_type": "code",
   "execution_count": 5,
   "id": "c074f43e",
   "metadata": {},
   "outputs": [],
   "source": [
    "def lowercasing(paragraph):\n",
    "    return paragraph.lower()"
   ]
  },
  {
   "cell_type": "code",
   "execution_count": 6,
   "id": "e035fed9",
   "metadata": {},
   "outputs": [],
   "source": [
    "def menghilangkan_tandabaca(paragraph):\n",
    "    new_paragraph = re.sub(fr'[{punctuation}]', r'', paragraph)\n",
    "    return new_paragraph"
   ]
  },
  {
   "cell_type": "code",
   "execution_count": 7,
   "id": "4c2c8478",
   "metadata": {},
   "outputs": [],
   "source": [
    "def text_normalization(paragraph):\n",
    "    paragraph = lowercasing(paragraph)\n",
    "    paragraph = menghilangkan_tandabaca(paragraph)\n",
    "    paragraph = re.sub(r\"[ ]+\",r' ',paragraph)\n",
    "    return paragraph"
   ]
  },
  {
   "cell_type": "code",
   "execution_count": 8,
   "id": "a1d820a2",
   "metadata": {},
   "outputs": [],
   "source": [
    "train_data['data_text'] = train_data['data_text'].apply(lambda x: text_normalization(x))\n",
    "test_data['data_text'] = test_data['data_text'].apply(lambda x: text_normalization(x))\n",
    "val_data['data_text'] = val_data['data_text'].apply(lambda x: text_normalization(x))"
   ]
  },
  {
   "cell_type": "code",
   "execution_count": 9,
   "id": "4aaa7d24",
   "metadata": {},
   "outputs": [],
   "source": [
    "tokenizer = Tokenizer(oov_token='<UNK>')"
   ]
  },
  {
   "cell_type": "code",
   "execution_count": 10,
   "id": "22cc57aa",
   "metadata": {},
   "outputs": [],
   "source": [
    "tokenizer.fit_on_texts(train_data['data_text'])"
   ]
  },
  {
   "cell_type": "code",
   "execution_count": 11,
   "id": "1eeac143",
   "metadata": {},
   "outputs": [],
   "source": [
    "train_data_tf = tokenizer.texts_to_sequences(train_data['data_text'])\n",
    "test_data_tf = tokenizer.texts_to_sequences(test_data['data_text'])\n",
    "val_data_tf = tokenizer.texts_to_sequences(val_data['data_text'])"
   ]
  },
  {
   "cell_type": "code",
   "execution_count": 12,
   "id": "6cc52fcf",
   "metadata": {},
   "outputs": [],
   "source": [
    "max_len = int(np.quantile([len(x) for x in train_data_tf], 0.9))"
   ]
  },
  {
   "cell_type": "code",
   "execution_count": 13,
   "id": "f50fe45f",
   "metadata": {},
   "outputs": [],
   "source": [
    "train_padded = pad_sequences(sequences = train_data_tf, padding='post', maxlen=max_len)\n",
    "test_padded = pad_sequences(sequences = test_data_tf, padding='post', maxlen=max_len)\n",
    "val_padded = pad_sequences(sequences = val_data_tf, padding='post', maxlen=max_len)"
   ]
  },
  {
   "cell_type": "code",
   "execution_count": 14,
   "id": "efbce9cc",
   "metadata": {},
   "outputs": [
    {
     "name": "stdout",
     "output_type": "stream",
     "text": [
      "(7040, 59)\n",
      "(2200, 59)\n",
      "(1760, 59)\n"
     ]
    }
   ],
   "source": [
    "print(train_padded.shape)\n",
    "print(test_padded.shape)\n",
    "print(val_padded.shape)"
   ]
  },
  {
   "cell_type": "code",
   "execution_count": 15,
   "id": "3b63aa5e",
   "metadata": {},
   "outputs": [],
   "source": [
    "onehot = OneHotEncoder()"
   ]
  },
  {
   "cell_type": "code",
   "execution_count": 16,
   "id": "d977fd99",
   "metadata": {},
   "outputs": [
    {
     "data": {
      "text/plain": [
       "<7040x3 sparse matrix of type '<class 'numpy.float64'>'\n",
       "\twith 7040 stored elements in Compressed Sparse Row format>"
      ]
     },
     "execution_count": 16,
     "metadata": {},
     "output_type": "execute_result"
    }
   ],
   "source": [
    "onehot.fit_transform(train_data[['label']])"
   ]
  },
  {
   "cell_type": "code",
   "execution_count": 17,
   "id": "af4fdef8",
   "metadata": {},
   "outputs": [],
   "source": [
    "train_labels = onehot.fit_transform(train_data[['label']]).toarray()"
   ]
  },
  {
   "cell_type": "code",
   "execution_count": 18,
   "id": "af151c57",
   "metadata": {},
   "outputs": [],
   "source": [
    "model = Sequential()"
   ]
  },
  {
   "cell_type": "code",
   "execution_count": 19,
   "id": "275c6d91",
   "metadata": {},
   "outputs": [],
   "source": [
    "max_features = len(tokenizer.index_word)\n",
    "batch_size=16\n",
    "output_dim = 64\n",
    "input_len = max_len"
   ]
  },
  {
   "cell_type": "code",
   "execution_count": 20,
   "id": "09e3bc64",
   "metadata": {},
   "outputs": [],
   "source": [
    "model = keras.Sequential()\n",
    "model.add(layers.Embedding(input_dim=len(tokenizer.index_word)+1,output_dim=output_dim, input_length=input_len))\n",
    "model.add(layers.LSTM(128, dropout=0.2))\n",
    "model.add(layers.Dense(64, activation='relu'))\n",
    "model.add(layers.Dense(32, activation='relu'))\n",
    "model.add(layers.Dense(3, activation='softmax'))"
   ]
  },
  {
   "cell_type": "code",
   "execution_count": 21,
   "id": "9a09ff55",
   "metadata": {},
   "outputs": [],
   "source": [
    "model.compile(loss='categorical_crossentropy', optimizer='adam',metrics=['accuracy'])"
   ]
  },
  {
   "cell_type": "code",
   "execution_count": 22,
   "id": "3c9005c1",
   "metadata": {
    "scrolled": false
   },
   "outputs": [
    {
     "name": "stdout",
     "output_type": "stream",
     "text": [
      "Epoch 1/20\n",
      "440/440 [==============================] - 19s 39ms/step - loss: 0.8283 - accuracy: 0.6381\n",
      "Epoch 2/20\n",
      "440/440 [==============================] - 17s 39ms/step - loss: 0.7438 - accuracy: 0.6855\n",
      "Epoch 3/20\n",
      "440/440 [==============================] - 17s 39ms/step - loss: 0.8902 - accuracy: 0.5881\n",
      "Epoch 4/20\n",
      "440/440 [==============================] - 17s 39ms/step - loss: 0.7983 - accuracy: 0.6543\n",
      "Epoch 5/20\n",
      "440/440 [==============================] - 17s 39ms/step - loss: 0.5735 - accuracy: 0.7811\n",
      "Epoch 6/20\n",
      "440/440 [==============================] - 18s 40ms/step - loss: 0.4956 - accuracy: 0.8146\n",
      "Epoch 7/20\n",
      "440/440 [==============================] - 18s 40ms/step - loss: 0.4252 - accuracy: 0.8328\n",
      "Epoch 8/20\n",
      "440/440 [==============================] - 18s 41ms/step - loss: 0.3397 - accuracy: 0.8714\n",
      "Epoch 9/20\n",
      "440/440 [==============================] - 18s 42ms/step - loss: 0.2363 - accuracy: 0.9259\n",
      "Epoch 10/20\n",
      "440/440 [==============================] - 18s 42ms/step - loss: 0.1404 - accuracy: 0.9558\n",
      "Epoch 11/20\n",
      "440/440 [==============================] - 19s 44ms/step - loss: 0.1022 - accuracy: 0.9661\n",
      "Epoch 12/20\n",
      "440/440 [==============================] - 18s 40ms/step - loss: 0.0783 - accuracy: 0.9746\n",
      "Epoch 13/20\n",
      "440/440 [==============================] - 19s 43ms/step - loss: 0.0557 - accuracy: 0.9839\n",
      "Epoch 14/20\n",
      "440/440 [==============================] - 18s 40ms/step - loss: 0.0503 - accuracy: 0.9834\n",
      "Epoch 15/20\n",
      "440/440 [==============================] - 18s 40ms/step - loss: 0.0428 - accuracy: 0.9862\n",
      "Epoch 16/20\n",
      "440/440 [==============================] - 18s 40ms/step - loss: 0.0408 - accuracy: 0.9861\n",
      "Epoch 17/20\n",
      "440/440 [==============================] - 17s 39ms/step - loss: 0.0365 - accuracy: 0.9889\n",
      "Epoch 18/20\n",
      "440/440 [==============================] - 18s 41ms/step - loss: 0.0329 - accuracy: 0.9896\n",
      "Epoch 19/20\n",
      "440/440 [==============================] - 18s 42ms/step - loss: 0.0259 - accuracy: 0.9926\n",
      "Epoch 20/20\n",
      "440/440 [==============================] - 18s 41ms/step - loss: 0.0198 - accuracy: 0.9946\n"
     ]
    },
    {
     "data": {
      "text/plain": [
       "<keras.callbacks.History at 0x1e2547a20b0>"
      ]
     },
     "execution_count": 22,
     "metadata": {},
     "output_type": "execute_result"
    }
   ],
   "source": [
    "maximum_index_training = int(np.floor(train_padded.shape[0]/batch_size)*batch_size)\n",
    "model.fit(x=train_padded[:maximum_index_training], \n",
    "          y=train_labels[:maximum_index_training],\n",
    "          batch_size=batch_size, \n",
    "          epochs=20, \n",
    "          shuffle=False)"
   ]
  },
  {
   "cell_type": "code",
   "execution_count": null,
   "id": "5a7667c0",
   "metadata": {},
   "outputs": [],
   "source": []
  }
 ],
 "metadata": {
  "kernelspec": {
   "display_name": "Python 3 (ipykernel)",
   "language": "python",
   "name": "python3"
  },
  "language_info": {
   "codemirror_mode": {
    "name": "ipython",
    "version": 3
   },
   "file_extension": ".py",
   "mimetype": "text/x-python",
   "name": "python",
   "nbconvert_exporter": "python",
   "pygments_lexer": "ipython3",
   "version": "3.10.9"
  }
 },
 "nbformat": 4,
 "nbformat_minor": 5
}
